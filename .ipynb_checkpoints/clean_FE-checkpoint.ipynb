{
 "cells": [
  {
   "cell_type": "markdown",
   "metadata": {},
   "source": [
    "## Goals: Clean data, refine and perform FE where possible\n",
    "\n",
    "Marriage: Collapse 0 and 3 into 3 (others)\n",
    "\n",
    "Education: Collapse 5,6,0 into 5 (unknown)\n",
    "\n",
    "PAY_X: Delete Values 0 and -2 (not explained)\n",
    "\n",
    "Possibly in Education: Collapse 5,6,0 (unknown) into 4 (others)\n",
    "\n",
    "Marriage and Education: Since these are strictly categorical, perform OHE. "
   ]
  }
 ],
 "metadata": {
  "kernelspec": {
   "display_name": "Python 3",
   "language": "python",
   "name": "python3"
  },
  "language_info": {
   "codemirror_mode": {
    "name": "ipython",
    "version": 3
   },
   "file_extension": ".py",
   "mimetype": "text/x-python",
   "name": "python",
   "nbconvert_exporter": "python",
   "pygments_lexer": "ipython3",
   "version": "3.7.7"
  }
 },
 "nbformat": 4,
 "nbformat_minor": 4
}
