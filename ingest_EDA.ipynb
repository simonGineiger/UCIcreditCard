{
 "cells": [
  {
   "cell_type": "markdown",
   "metadata": {},
   "source": [
    "## Default of Credit Card Clients Dataset\n",
    "Default Payments of Credit Card Clients in Taiwan from 2005\n",
    "\n",
    "ID: ID of each client\n",
    "\n",
    "LIMIT_BAL: Amount of given credit in NT dollars (includes individual and family/supplementary credit\n",
    "\n",
    "SEX: Gender (1=male, 2=female)\n",
    "\n",
    "EDUCATION: (1=graduate school, 2=university, 3=high school, 4=others, 5=unknown, 6=unknown)\n",
    "\n",
    "MARRIAGE: Marital status (1=married, 2=single, 3=others)\n",
    "\n",
    "AGE: Age in years\n",
    "\n",
    "PAY_0: Repayment status in September, 2005 (-1=pay duly, 1=payment delay for one month, 2=payment delay \n",
    "for two months, … 8=payment delay for eight months, 9=payment delay for nine months and above)\n",
    "\n",
    "PAY_2: Repayment status in August, 2005 (scale same as above)\n",
    "\n",
    "PAY_3: Repayment status in July, 2005 (scale same as above)\n",
    "\n",
    "PAY_4: Repayment status in June, 2005 (scale same as above)\n",
    "\n",
    "PAY_5: Repayment status in May, 2005 (scale same as above)\n",
    "\n",
    "PAY_6: Repayment status in April, 2005 (scale same as above)\n",
    "\n",
    "BILL_AMT1: Amount of bill statement in September, 2005 (NT dollar)\n",
    "\n",
    "BILL_AMT2: Amount of bill statement in August, 2005 (NT dollar)\n",
    "\n",
    "BILL_AMT3: Amount of bill statement in July, 2005 (NT dollar)\n",
    "\n",
    "BILL_AMT4: Amount of bill statement in June, 2005 (NT dollar)\n",
    "\n",
    "BILL_AMT5: Amount of bill statement in May, 2005 (NT dollar)\n",
    "\n",
    "BILL_AMT6: Amount of bill statement in April, 2005 (NT dollar)\n",
    "\n",
    "PAY_AMT1: Amount of previous payment in September, 2005 (NT dollar)\n",
    "\n",
    "PAY_AMT2: Amount of previous payment in August, 2005 (NT dollar)\n",
    "\n",
    "PAY_AMT3: Amount of previous payment in July, 2005 (NT dollar)\n",
    "\n",
    "PAY_AMT4: Amount of previous payment in June, 2005 (NT dollar)\n",
    "\n",
    "PAY_AMT5: Amount of previous payment in May, 2005 (NT dollar)\n",
    "\n",
    "PAY_AMT6: Amount of previous payment in April, 2005 (NT dollar)\n",
    "\n",
    "default.payment.next.month: Default payment (1=yes, 0=no)"
   ]
  },
  {
   "cell_type": "code",
   "execution_count": 1,
   "metadata": {},
   "outputs": [],
   "source": [
    "# sort features\n",
    "\n",
    "target = \"default.payment.next.month\"\n",
    "categorical_features = [\"SEX\", \"EDUCATION\", \"MARRIAGE\"]\n",
    "ordinal_features = [\"PAY_0\", \"PAY_2\", \"PAY_3\", \"PAY_4\", \"PAY_5\", \"PAY_6\"]\n",
    "numerical_features = [\"LIMIT_BAL\", \"AGE\", \"BILL_AMT1\", \"BILL_AMT2\", \"BILL_AMT3\", \n",
    "                      \"BILL_AMT4\", \"BILL_AMT5\", \"BILL_AMT6\"]"
   ]
  },
  {
   "cell_type": "code",
   "execution_count": null,
   "metadata": {},
   "outputs": [],
   "source": [
    "# setup\n",
    "\n",
    "# 3rd party\n",
    "import pandas as pd\n",
    "import matplotlib\n",
    "import matplotlib.pyplot as plt\n",
    "import seaborn as sns\n",
    "# stdlib\n",
    "import os\n",
    "\n",
    "pd.options.display.max_columns = None\n",
    "\n",
    "filename = \"UCI_Credit_Card.csv\""
   ]
  },
  {
   "cell_type": "code",
   "execution_count": null,
   "metadata": {},
   "outputs": [],
   "source": [
    "# utility functions \n",
    "\n",
    "def correlation_heatmap(corr_df):\n",
    "    color = \"white\"\n",
    "    plt.rcParams['text.color'] = color\n",
    "    plt.rcParams['axes.labelcolor'] = color\n",
    "    plt.rcParams['xtick.color'] = color\n",
    "    plt.rcParams['ytick.color'] = color\n",
    "    plt.figure(figsize=(30,35))\n",
    "    sns.heatmap(corr_df, annot=True, cmap=plt.cm.Reds)\n",
    "    # plt.show()\n",
    "    #####\n",
    "    # fix for mpl bug that cuts off top/bottom of seaborn viz\n",
    "    b, t = plt.ylim() # discover the values for bottom and top\n",
    "    b += 0.5 # Add 0.5 to the bottom\n",
    "    t -= 0.5 # Subtract 0.5 from the top\n",
    "    plt.ylim(b, t) # update the ylim(bottom, top) values\n",
    "    plt.show() \n",
    "    \n",
    "\n",
    "def find_correlations(corr_df, threshold):\n",
    "    relevant = {}\n",
    "    for column in corr_df.columns:\n",
    "        corr_df[column].loc[column] = 0 # replace equal pairs with 0 since correlation has to be 1\n",
    "        series_above_th = corr_df.loc[column].loc[abs(corr_df.loc[column])>threshold]\n",
    "        i = 0\n",
    "        for index in series_above_th.index:\n",
    "            if (index+\"---\"+column) not in relevant: # avoid redundant entries\n",
    "                relevant[column+\"---\"+index] = series_above_th[i]\n",
    "            i += 1\n",
    "    return relevant\n",
    "\n",
    "\n",
    "def show_correlations(df, correlations):\n",
    "    for element in correlations:\n",
    "        (first,second)=element.split(\"---\")\n",
    "        print(f\"{first} and {second} have a pearson correlation of {correlations[element]}\")\n",
    "        plt.figure(figsize=(15,20))\n",
    "        plt.scatter(df[first], df[second])\n",
    "        plt.show()\n",
    "        \n",
    "\n",
    "def analyze_correlations(df, threshold=0.9):\n",
    "    corr_df = df.corr(method=\"pearson\")\n",
    "    correlation_heatmap(corr_df)\n",
    "    print(\"\\n\\n*********************************************\")\n",
    "    print(f\"Showing correlations above {threshold} (absolute value)\")\n",
    "    print(\"*********************************************\\n\\n\")\n",
    "    show_correlations(df, find_correlations(corr_df, threshold))"
   ]
  },
  {
   "cell_type": "code",
   "execution_count": null,
   "metadata": {},
   "outputs": [],
   "source": [
    "# ingest\n",
    "\n",
    "os.chdir(\"..\")\n",
    "filepath = os.getcwd() + \"\\data\\\\\" + filename\n",
    "\n",
    "df = pd.read_csv(filepath)\n",
    "df.head(3)"
   ]
  },
  {
   "cell_type": "code",
   "execution_count": null,
   "metadata": {},
   "outputs": [],
   "source": [
    "# check for NaNs and data types\n",
    "\n",
    "df.info()"
   ]
  },
  {
   "cell_type": "code",
   "execution_count": null,
   "metadata": {},
   "outputs": [],
   "source": [
    "# check for std = 0 and similar\n",
    "\n",
    "df.describe()"
   ]
  },
  {
   "cell_type": "markdown",
   "metadata": {},
   "source": [
    "## Visualization - Setup"
   ]
  },
  {
   "cell_type": "code",
   "execution_count": null,
   "metadata": {},
   "outputs": [],
   "source": [
    "color = \"white\"\n",
    "plt.rcParams[\"text.color\"] = color\n",
    "plt.rcParams[\"axes.labelcolor\"] = color\n",
    "plt.rcParams[\"xtick.color\"] = color\n",
    "plt.rcParams[\"ytick.color\"] = color"
   ]
  },
  {
   "cell_type": "markdown",
   "metadata": {},
   "source": [
    "## Visualization - Categorical"
   ]
  },
  {
   "cell_type": "code",
   "execution_count": null,
   "metadata": {},
   "outputs": [],
   "source": [
    "df[\"SEX\"].value_counts().plot(kind =\"bar\")\n",
    "\n",
    "# SEX: Gender (1=male, 2=female)"
   ]
  },
  {
   "cell_type": "code",
   "execution_count": null,
   "metadata": {},
   "outputs": [],
   "source": [
    "df[\"EDUCATION\"].value_counts().plot(kind =\"bar\")\n",
    "\n",
    "# EDUCATION: (1=graduate school, 2=university, 3=high school, 4=others, 5=unknown, 6=unknown)"
   ]
  },
  {
   "cell_type": "code",
   "execution_count": null,
   "metadata": {},
   "outputs": [],
   "source": [
    "df[\"MARRIAGE\"].value_counts().plot(kind =\"bar\")\n",
    "\n",
    "# MARRIAGE: Marital status (1=married, 2=single, 3=others)"
   ]
  },
  {
   "cell_type": "code",
   "execution_count": null,
   "metadata": {},
   "outputs": [],
   "source": [
    "df[categorical_features].describe()"
   ]
  },
  {
   "cell_type": "markdown",
   "metadata": {},
   "source": [
    "## Visualization Results - Categorical\n",
    "\n",
    "Todos: \n",
    "\n",
    "Marriage: Collapse 0 and 3\n",
    "\n",
    "Education: Collapse 5,6,0\n"
   ]
  },
  {
   "cell_type": "markdown",
   "metadata": {},
   "source": [
    "## Visualization - Ordinal\n",
    "\n",
    "PAY_0: Repayment status in September, 2005 (-1=pay duly, 1=payment delay for one month, 2=payment delay \n",
    "for two months, … 8=payment delay for eight months, 9=payment delay for nine months and above)"
   ]
  },
  {
   "cell_type": "code",
   "execution_count": null,
   "metadata": {},
   "outputs": [],
   "source": [
    "ordinal_df = df[ordinal_features]\n",
    "fig = plt.figure(figsize = (15,20))\n",
    "ax = fig.gca()\n",
    "ordinal_df.hist(bins=50, ax=ax)"
   ]
  },
  {
   "cell_type": "code",
   "execution_count": null,
   "metadata": {},
   "outputs": [],
   "source": [
    "ordinal_df.describe()"
   ]
  },
  {
   "cell_type": "markdown",
   "metadata": {},
   "source": [
    "## Visualization Results - Ordinal\n",
    "\n",
    "Todos: \n",
    "\n",
    "Clean up unexplained values of 0 and -2\n"
   ]
  },
  {
   "cell_type": "markdown",
   "metadata": {},
   "source": [
    "## Visualization - Numerical\n"
   ]
  },
  {
   "cell_type": "code",
   "execution_count": null,
   "metadata": {},
   "outputs": [],
   "source": [
    "numerical_df = df[numerical_features]\n",
    "fig = plt.figure(figsize = (15,20))\n",
    "ax = fig.gca()\n",
    "numerical_df.hist(bins=30, ax=ax)"
   ]
  },
  {
   "cell_type": "code",
   "execution_count": null,
   "metadata": {},
   "outputs": [],
   "source": [
    "numerical_df.describe()"
   ]
  },
  {
   "cell_type": "markdown",
   "metadata": {},
   "source": [
    "## Correlation Analysis"
   ]
  },
  {
   "cell_type": "code",
   "execution_count": null,
   "metadata": {},
   "outputs": [],
   "source": [
    "\n",
    "analyze_correlations(df)"
   ]
  },
  {
   "cell_type": "markdown",
   "metadata": {},
   "source": [
    "## Correlation Analysis -  Results\n",
    "\n",
    "No surprises - strong correlation among lagged time features. All correlations to target weak. "
   ]
  }
 ],
 "metadata": {
  "kernelspec": {
   "display_name": "Python 3",
   "language": "python",
   "name": "python3"
  },
  "language_info": {
   "codemirror_mode": {
    "name": "ipython",
    "version": 3
   },
   "file_extension": ".py",
   "mimetype": "text/x-python",
   "name": "python",
   "nbconvert_exporter": "python",
   "pygments_lexer": "ipython3",
   "version": "3.7.7"
  }
 },
 "nbformat": 4,
 "nbformat_minor": 4
}
